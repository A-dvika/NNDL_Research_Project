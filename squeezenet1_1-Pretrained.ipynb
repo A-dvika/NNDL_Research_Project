{
 "cells": [
  {
   "cell_type": "code",
   "execution_count": 1,
   "metadata": {},
   "outputs": [],
   "source": [
    "import torch\n",
    "import torchvision.transforms as transforms\n",
    "from torchvision import datasets, models\n",
    "from torch.utils.data import DataLoader, random_split\n",
    "import torch.nn as nn\n",
    "import torch.optim as optim"
   ]
  },
  {
   "cell_type": "code",
   "execution_count": 2,
   "metadata": {},
   "outputs": [
    {
     "name": "stdout",
     "output_type": "stream",
     "text": [
      "cuda\n"
     ]
    }
   ],
   "source": [
    "import torch\n",
    "device = torch.device(\"cuda\" if torch.cuda.is_available() else \"cpu\")\n",
    "print(device)\n"
   ]
  },
  {
   "cell_type": "code",
   "execution_count": 3,
   "metadata": {},
   "outputs": [],
   "source": [
    "# Define transformations (ResNet requires specific normalization)\n",
    "transform = transforms.Compose([\n",
    "    transforms.Resize((224, 224)),  # ResNet expects 224x224 images\n",
    "    transforms.ToTensor(),\n",
    "    transforms.Normalize(mean=[0.485, 0.456, 0.406], std=[0.229, 0.224, 0.225])\n",
    "])"
   ]
  },
  {
   "cell_type": "code",
   "execution_count": 4,
   "metadata": {},
   "outputs": [],
   "source": [
    "# Load dataset\n",
    "full_train_data = datasets.ImageFolder(root=\"C://Users//HP//Desktop//NNDL_Project//train\", transform=transform)\n",
    "test_data = datasets.ImageFolder(root=\"C://Users//HP//Desktop//NNDL_Project//test\", transform=transform)"
   ]
  },
  {
   "cell_type": "code",
   "execution_count": 5,
   "metadata": {},
   "outputs": [],
   "source": [
    "# Train-validation split (80% train, 20% validation)\n",
    "train_size = int(0.8 * len(full_train_data))\n",
    "val_size = len(full_train_data) - train_size\n",
    "train_data, val_data = random_split(full_train_data, [train_size, val_size])\n"
   ]
  },
  {
   "cell_type": "code",
   "execution_count": 6,
   "metadata": {},
   "outputs": [],
   "source": [
    "# Create DataLoaders\n",
    "train_loader = DataLoader(train_data, batch_size=32, shuffle=True)\n",
    "val_loader = DataLoader(val_data, batch_size=32, shuffle=False)\n",
    "test_loader = DataLoader(test_data, batch_size=32, shuffle=False)"
   ]
  },
  {
   "cell_type": "code",
   "execution_count": 7,
   "metadata": {},
   "outputs": [
    {
     "name": "stderr",
     "output_type": "stream",
     "text": [
      "c:\\Users\\HP\\Desktop\\NNDL_Project\\venv\\lib\\site-packages\\torchvision\\models\\_utils.py:208: UserWarning: The parameter 'pretrained' is deprecated since 0.13 and may be removed in the future, please use 'weights' instead.\n",
      "  warnings.warn(\n",
      "c:\\Users\\HP\\Desktop\\NNDL_Project\\venv\\lib\\site-packages\\torchvision\\models\\_utils.py:223: UserWarning: Arguments other than a weight enum or `None` for 'weights' are deprecated since 0.13 and may be removed in the future. The current behavior is equivalent to passing `weights=SqueezeNet1_1_Weights.IMAGENET1K_V1`. You can also use `weights=SqueezeNet1_1_Weights.DEFAULT` to get the most up-to-date weights.\n",
      "  warnings.warn(msg)\n",
      "Downloading: \"https://download.pytorch.org/models/squeezenet1_1-b8a52dc0.pth\" to C:\\Users\\HP/.cache\\torch\\hub\\checkpoints\\squeezenet1_1-b8a52dc0.pth\n",
      "100%|██████████| 4.73M/4.73M [00:05<00:00, 947kB/s] \n"
     ]
    }
   ],
   "source": [
    "import torch.nn as nn\n",
    "from torchvision import models\n",
    "\n",
    "# Load the pretrained SqueezeNet model\n",
    "model = models.squeezenet1_1(pretrained=True)\n",
    "\n",
    "# Modify the classifier to output 7 classes\n",
    "model.classifier[1] = nn.Conv2d(512, 7, kernel_size=(1,1), stride=(1,1))\n",
    "\n",
    "# Now the model is ready to be used for training on your emotion dataset\n"
   ]
  },
  {
   "cell_type": "code",
   "execution_count": 8,
   "metadata": {},
   "outputs": [],
   "source": [
    "# Move model to GPU if available\n",
    "model = model.to(device)"
   ]
  },
  {
   "cell_type": "code",
   "execution_count": 9,
   "metadata": {},
   "outputs": [],
   "source": [
    "# Define Loss Function and Optimizer\n",
    "criterion = nn.CrossEntropyLoss()\n",
    "optimizer = optim.Adam(model.parameters(), lr=0.001)\n"
   ]
  },
  {
   "cell_type": "code",
   "execution_count": 10,
   "metadata": {},
   "outputs": [
    {
     "name": "stderr",
     "output_type": "stream",
     "text": [
      "Training Epoch 1: 100%|██████████| 718/718 [01:22<00:00,  8.66it/s]\n",
      "Validating Epoch 1: 100%|██████████| 180/180 [00:19<00:00,  9.23it/s]\n"
     ]
    },
    {
     "name": "stdout",
     "output_type": "stream",
     "text": [
      "Epoch 1, Train Loss: 1.8447, Val Loss: 1.8286, Val Accuracy: 21.33%, Val Precision: 0.35, Val Recall: 0.21\n"
     ]
    },
    {
     "name": "stderr",
     "output_type": "stream",
     "text": [
      "Training Epoch 2: 100%|██████████| 718/718 [01:07<00:00, 10.62it/s]\n",
      "Validating Epoch 2: 100%|██████████| 180/180 [00:12<00:00, 14.98it/s]\n"
     ]
    },
    {
     "name": "stdout",
     "output_type": "stream",
     "text": [
      "Epoch 2, Train Loss: 1.7767, Val Loss: 1.7038, Val Accuracy: 30.48%, Val Precision: 0.41, Val Recall: 0.30\n"
     ]
    },
    {
     "name": "stderr",
     "output_type": "stream",
     "text": [
      "Training Epoch 3: 100%|██████████| 718/718 [01:18<00:00,  9.20it/s]\n",
      "Validating Epoch 3: 100%|██████████| 180/180 [00:14<00:00, 12.02it/s]\n"
     ]
    },
    {
     "name": "stdout",
     "output_type": "stream",
     "text": [
      "Epoch 3, Train Loss: 1.6254, Val Loss: 1.4522, Val Accuracy: 42.96%, Val Precision: 0.54, Val Recall: 0.43\n"
     ]
    },
    {
     "name": "stderr",
     "output_type": "stream",
     "text": [
      "Training Epoch 4: 100%|██████████| 718/718 [01:12<00:00,  9.89it/s]\n",
      "Validating Epoch 4: 100%|██████████| 180/180 [00:12<00:00, 14.24it/s]\n"
     ]
    },
    {
     "name": "stdout",
     "output_type": "stream",
     "text": [
      "Epoch 4, Train Loss: 1.4303, Val Loss: 1.3731, Val Accuracy: 47.34%, Val Precision: 0.47, Val Recall: 0.47\n"
     ]
    },
    {
     "name": "stderr",
     "output_type": "stream",
     "text": [
      "Training Epoch 5: 100%|██████████| 718/718 [01:20<00:00,  8.89it/s]\n",
      "Validating Epoch 5: 100%|██████████| 180/180 [00:16<00:00, 11.09it/s]\n"
     ]
    },
    {
     "name": "stdout",
     "output_type": "stream",
     "text": [
      "Epoch 5, Train Loss: 1.3395, Val Loss: 1.3343, Val Accuracy: 49.15%, Val Precision: 0.47, Val Recall: 0.49\n"
     ]
    },
    {
     "name": "stderr",
     "output_type": "stream",
     "text": [
      "Training Epoch 6: 100%|██████████| 718/718 [01:11<00:00, 10.01it/s]\n",
      "Validating Epoch 6: 100%|██████████| 180/180 [00:13<00:00, 13.06it/s]\n"
     ]
    },
    {
     "name": "stdout",
     "output_type": "stream",
     "text": [
      "Epoch 6, Train Loss: 1.2739, Val Loss: 1.2593, Val Accuracy: 52.06%, Val Precision: 0.54, Val Recall: 0.52\n"
     ]
    },
    {
     "name": "stderr",
     "output_type": "stream",
     "text": [
      "Training Epoch 7: 100%|██████████| 718/718 [01:15<00:00,  9.52it/s]\n",
      "Validating Epoch 7: 100%|██████████| 180/180 [00:14<00:00, 12.51it/s]\n"
     ]
    },
    {
     "name": "stdout",
     "output_type": "stream",
     "text": [
      "Epoch 7, Train Loss: 1.2230, Val Loss: 1.2414, Val Accuracy: 52.79%, Val Precision: 0.54, Val Recall: 0.53\n"
     ]
    },
    {
     "name": "stderr",
     "output_type": "stream",
     "text": [
      "Training Epoch 8: 100%|██████████| 718/718 [01:17<00:00,  9.21it/s]\n",
      "Validating Epoch 8: 100%|██████████| 180/180 [00:20<00:00,  8.64it/s]\n"
     ]
    },
    {
     "name": "stdout",
     "output_type": "stream",
     "text": [
      "Epoch 8, Train Loss: 1.1688, Val Loss: 1.2566, Val Accuracy: 50.19%, Val Precision: 0.58, Val Recall: 0.50\n"
     ]
    },
    {
     "name": "stderr",
     "output_type": "stream",
     "text": [
      "Training Epoch 9: 100%|██████████| 718/718 [01:21<00:00,  8.78it/s]\n",
      "Validating Epoch 9: 100%|██████████| 180/180 [00:14<00:00, 12.58it/s]\n"
     ]
    },
    {
     "name": "stdout",
     "output_type": "stream",
     "text": [
      "Epoch 9, Train Loss: 1.1231, Val Loss: 1.1885, Val Accuracy: 56.04%, Val Precision: 0.57, Val Recall: 0.56\n"
     ]
    },
    {
     "name": "stderr",
     "output_type": "stream",
     "text": [
      "Training Epoch 10: 100%|██████████| 718/718 [01:18<00:00,  9.13it/s]\n",
      "Validating Epoch 10: 100%|██████████| 180/180 [00:15<00:00, 11.81it/s]\n"
     ]
    },
    {
     "name": "stdout",
     "output_type": "stream",
     "text": [
      "Epoch 10, Train Loss: 1.0820, Val Loss: 1.1685, Val Accuracy: 56.29%, Val Precision: 0.57, Val Recall: 0.56\n"
     ]
    },
    {
     "name": "stderr",
     "output_type": "stream",
     "text": [
      "Training Epoch 11: 100%|██████████| 718/718 [01:24<00:00,  8.51it/s]\n",
      "Validating Epoch 11: 100%|██████████| 180/180 [00:14<00:00, 12.36it/s]\n"
     ]
    },
    {
     "name": "stdout",
     "output_type": "stream",
     "text": [
      "Epoch 11, Train Loss: 1.0449, Val Loss: 1.1872, Val Accuracy: 54.96%, Val Precision: 0.57, Val Recall: 0.55\n"
     ]
    },
    {
     "name": "stderr",
     "output_type": "stream",
     "text": [
      "Training Epoch 12: 100%|██████████| 718/718 [01:17<00:00,  9.23it/s]\n",
      "Validating Epoch 12: 100%|██████████| 180/180 [00:14<00:00, 12.20it/s]\n"
     ]
    },
    {
     "name": "stdout",
     "output_type": "stream",
     "text": [
      "Epoch 12, Train Loss: 1.0061, Val Loss: 1.1366, Val Accuracy: 57.47%, Val Precision: 0.57, Val Recall: 0.57\n"
     ]
    },
    {
     "name": "stderr",
     "output_type": "stream",
     "text": [
      "Training Epoch 13: 100%|██████████| 718/718 [01:18<00:00,  9.12it/s]\n",
      "Validating Epoch 13: 100%|██████████| 180/180 [00:15<00:00, 11.78it/s]\n"
     ]
    },
    {
     "name": "stdout",
     "output_type": "stream",
     "text": [
      "Epoch 13, Train Loss: 0.9683, Val Loss: 1.1464, Val Accuracy: 57.37%, Val Precision: 0.57, Val Recall: 0.57\n"
     ]
    },
    {
     "name": "stderr",
     "output_type": "stream",
     "text": [
      "Training Epoch 14: 100%|██████████| 718/718 [01:23<00:00,  8.63it/s]\n",
      "Validating Epoch 14: 100%|██████████| 180/180 [00:18<00:00,  9.87it/s]\n"
     ]
    },
    {
     "name": "stdout",
     "output_type": "stream",
     "text": [
      "Epoch 14, Train Loss: 0.9306, Val Loss: 1.1373, Val Accuracy: 58.06%, Val Precision: 0.58, Val Recall: 0.58\n"
     ]
    },
    {
     "name": "stderr",
     "output_type": "stream",
     "text": [
      "Training Epoch 15: 100%|██████████| 718/718 [01:27<00:00,  8.18it/s]\n",
      "Validating Epoch 15: 100%|██████████| 180/180 [00:14<00:00, 12.19it/s]\n"
     ]
    },
    {
     "name": "stdout",
     "output_type": "stream",
     "text": [
      "Epoch 15, Train Loss: 0.9001, Val Loss: 1.1573, Val Accuracy: 58.46%, Val Precision: 0.58, Val Recall: 0.58\n"
     ]
    },
    {
     "name": "stderr",
     "output_type": "stream",
     "text": [
      "Training Epoch 16: 100%|██████████| 718/718 [01:19<00:00,  9.07it/s]\n",
      "Validating Epoch 16: 100%|██████████| 180/180 [00:15<00:00, 11.67it/s]\n"
     ]
    },
    {
     "name": "stdout",
     "output_type": "stream",
     "text": [
      "Epoch 16, Train Loss: 0.8576, Val Loss: 1.1643, Val Accuracy: 58.03%, Val Precision: 0.58, Val Recall: 0.58\n"
     ]
    },
    {
     "name": "stderr",
     "output_type": "stream",
     "text": [
      "Training Epoch 17: 100%|██████████| 718/718 [01:24<00:00,  8.52it/s]\n",
      "Validating Epoch 17: 100%|██████████| 180/180 [00:19<00:00,  9.41it/s]\n"
     ]
    },
    {
     "name": "stdout",
     "output_type": "stream",
     "text": [
      "Epoch 17, Train Loss: 0.8292, Val Loss: 1.1797, Val Accuracy: 58.38%, Val Precision: 0.59, Val Recall: 0.58\n"
     ]
    },
    {
     "name": "stderr",
     "output_type": "stream",
     "text": [
      "Training Epoch 18: 100%|██████████| 718/718 [01:26<00:00,  8.30it/s]\n",
      "Validating Epoch 18: 100%|██████████| 180/180 [00:18<00:00,  9.96it/s]\n"
     ]
    },
    {
     "name": "stdout",
     "output_type": "stream",
     "text": [
      "Epoch 18, Train Loss: 0.7864, Val Loss: 1.2369, Val Accuracy: 58.52%, Val Precision: 0.59, Val Recall: 0.59\n"
     ]
    },
    {
     "name": "stderr",
     "output_type": "stream",
     "text": [
      "Training Epoch 19: 100%|██████████| 718/718 [01:36<00:00,  7.46it/s]\n",
      "Validating Epoch 19: 100%|██████████| 180/180 [00:22<00:00,  7.89it/s]\n"
     ]
    },
    {
     "name": "stdout",
     "output_type": "stream",
     "text": [
      "Epoch 19, Train Loss: 0.7546, Val Loss: 1.2169, Val Accuracy: 57.92%, Val Precision: 0.57, Val Recall: 0.58\n"
     ]
    },
    {
     "name": "stderr",
     "output_type": "stream",
     "text": [
      "Training Epoch 20: 100%|██████████| 718/718 [01:26<00:00,  8.30it/s]\n",
      "Validating Epoch 20: 100%|██████████| 180/180 [00:16<00:00, 11.23it/s]\n"
     ]
    },
    {
     "name": "stdout",
     "output_type": "stream",
     "text": [
      "Epoch 20, Train Loss: 0.7169, Val Loss: 1.2519, Val Accuracy: 58.76%, Val Precision: 0.61, Val Recall: 0.59\n"
     ]
    },
    {
     "name": "stderr",
     "output_type": "stream",
     "text": [
      "Evaluating Test Set: 100%|██████████| 225/225 [00:28<00:00,  8.02it/s]"
     ]
    },
    {
     "name": "stdout",
     "output_type": "stream",
     "text": [
      "Test Accuracy: 57.70%, Test Precision: 0.60, Test Recall: 0.58\n"
     ]
    },
    {
     "name": "stderr",
     "output_type": "stream",
     "text": [
      "\n"
     ]
    }
   ],
   "source": [
    "from sklearn.metrics import precision_score, recall_score, accuracy_score\n",
    "from tqdm import tqdm  # Import tqdm for progress bars\n",
    "\n",
    "\n",
    "# # Load the model's state dict from epoch 5\n",
    "# checkpoint_path = \"resnet18_emotion_epoch_11.pth\"\n",
    "# model.load_state_dict(torch.load(checkpoint_path))\n",
    "\n",
    "\n",
    "\n",
    "\n",
    "start_epoch = 0\n",
    "num_epochs = 20  \n",
    "\n",
    "# Training Loop from Epoch 6\n",
    "for epoch in range(start_epoch, num_epochs):\n",
    "    model.train()\n",
    "    train_loss = 0\n",
    "    \n",
    "    for images, labels in tqdm(train_loader, desc=f\"Training Epoch {epoch+1}\", total=len(train_loader)):\n",
    "        images, labels = images.to(device), labels.to(device)\n",
    "        \n",
    "        optimizer.zero_grad()\n",
    "        outputs = model(images)\n",
    "        loss = criterion(outputs, labels)\n",
    "        loss.backward()\n",
    "        optimizer.step()\n",
    "        \n",
    "        train_loss += loss.item()\n",
    "\n",
    "    # Validation Loop\n",
    "    model.eval()\n",
    "    val_loss = 0\n",
    "    correct = 0\n",
    "    total = 0\n",
    "    all_preds = []\n",
    "    all_labels = []\n",
    "\n",
    "    with torch.no_grad():\n",
    "        for images, labels in tqdm(val_loader, desc=f\"Validating Epoch {epoch+1}\", total=len(val_loader)):\n",
    "            images, labels = images.to(device), labels.to(device)\n",
    "            outputs = model(images)\n",
    "            loss = criterion(outputs, labels)\n",
    "            val_loss += loss.item()\n",
    "            \n",
    "            _, predicted = torch.max(outputs, 1)\n",
    "            correct += (predicted == labels).sum().item()\n",
    "            total += labels.size(0)\n",
    "            \n",
    "            all_preds.extend(predicted.cpu().numpy())\n",
    "            all_labels.extend(labels.cpu().numpy())\n",
    "\n",
    "    # Calculate Accuracy, Precision, and Recall\n",
    "    val_accuracy = 100 * correct / total\n",
    "    val_precision = precision_score(all_labels, all_preds, average='weighted', zero_division=1)\n",
    "    val_recall = recall_score(all_labels, all_preds, average='weighted', zero_division=1)\n",
    "\n",
    "    print(f\"Epoch {epoch+1}, Train Loss: {train_loss/len(train_loader):.4f}, Val Loss: {val_loss/len(val_loader):.4f}, \"\n",
    "          f\"Val Accuracy: {val_accuracy:.2f}%, Val Precision: {val_precision:.2f}, Val Recall: {val_recall:.2f}\")\n",
    "\n",
    "    # Save model after each epoch\n",
    "    torch.save(model.state_dict(), f\"squeezenet1_1_motion_epoch_{epoch+1}.pth\")\n",
    "\n",
    "# Final Evaluation on Test Set\n",
    "model.eval()\n",
    "correct = 0\n",
    "total = 0\n",
    "all_preds = []\n",
    "all_labels = []\n",
    "\n",
    "with torch.no_grad():\n",
    "    for images, labels in tqdm(test_loader, desc=\"Evaluating Test Set\", total=len(test_loader)):\n",
    "        images, labels = images.to(device), labels.to(device)\n",
    "        outputs = model(images)\n",
    "        _, predicted = torch.max(outputs, 1)\n",
    "        correct += (predicted == labels).sum().item()\n",
    "        total += labels.size(0)\n",
    "        \n",
    "        all_preds.extend(predicted.cpu().numpy())\n",
    "        all_labels.extend(labels.cpu().numpy())\n",
    "\n",
    "test_accuracy = 100 * correct / total\n",
    "test_precision = precision_score(all_labels, all_preds, average='weighted', zero_division=1)\n",
    "test_recall = recall_score(all_labels, all_preds, average='weighted', zero_division=1)\n",
    "\n",
    "print(f\"Test Accuracy: {test_accuracy:.2f}%, Test Precision: {test_precision:.2f}, Test Recall: {test_recall:.2f}\")\n"
   ]
  },
  {
   "cell_type": "code",
   "execution_count": null,
   "metadata": {},
   "outputs": [],
   "source": []
  }
 ],
 "metadata": {
  "kernelspec": {
   "display_name": "venv",
   "language": "python",
   "name": "python3"
  },
  "language_info": {
   "codemirror_mode": {
    "name": "ipython",
    "version": 3
   },
   "file_extension": ".py",
   "mimetype": "text/x-python",
   "name": "python",
   "nbconvert_exporter": "python",
   "pygments_lexer": "ipython3",
   "version": "3.10.0"
  }
 },
 "nbformat": 4,
 "nbformat_minor": 2
}
